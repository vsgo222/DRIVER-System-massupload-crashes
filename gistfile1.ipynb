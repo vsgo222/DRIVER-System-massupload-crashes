{
 "cells": [
  {
   "cell_type": "markdown",
   "metadata": {},
   "source": [
    "# Flattening JSON objects in Python"
   ]
  },
  {
   "cell_type": "markdown",
   "metadata": {},
   "source": [
    "A blog post related to this notebook is available <a href=\"https://medium.com/amirziai/flattening-json-objects-in-python-f5343c794b10\">here</a>\n",
    "<br>\n",
    "Written by Amir Ziai <a href=\"http://twitter.com/amirziai\">@amirziai</a>"
   ]
  },
  {
   "cell_type": "markdown",
   "metadata": {},
   "source": [
    "### Flattening with json_normalize"
   ]
  },
  {
   "cell_type": "code",
   "execution_count": 1,
   "metadata": {},
   "outputs": [],
   "source": [
    "sample_object = {\n",
    "                    'Name':'John',\n",
    "                    'Location':{'City':'Los Angeles','State':'CA'},\n",
    "                }"
   ]
  },
  {
   "cell_type": "code",
   "execution_count": 2,
   "metadata": {},
   "outputs": [
    {
     "data": {
      "text/html": [
       "<div>\n",
       "<style scoped>\n",
       "    .dataframe tbody tr th:only-of-type {\n",
       "        vertical-align: middle;\n",
       "    }\n",
       "\n",
       "    .dataframe tbody tr th {\n",
       "        vertical-align: top;\n",
       "    }\n",
       "\n",
       "    .dataframe thead th {\n",
       "        text-align: right;\n",
       "    }\n",
       "</style>\n",
       "<table border=\"1\" class=\"dataframe\">\n",
       "  <thead>\n",
       "    <tr style=\"text-align: right;\">\n",
       "      <th></th>\n",
       "      <th>Location.City</th>\n",
       "      <th>Location.State</th>\n",
       "      <th>Name</th>\n",
       "    </tr>\n",
       "  </thead>\n",
       "  <tbody>\n",
       "    <tr>\n",
       "      <th>0</th>\n",
       "      <td>Los Angeles</td>\n",
       "      <td>CA</td>\n",
       "      <td>John</td>\n",
       "    </tr>\n",
       "  </tbody>\n",
       "</table>\n",
       "</div>"
      ],
      "text/plain": [
       "  Location.City Location.State  Name\n",
       "0   Los Angeles             CA  John"
      ]
     },
     "execution_count": 2,
     "metadata": {},
     "output_type": "execute_result"
    }
   ],
   "source": [
    "from pandas.io.json import json_normalize\n",
    "json_normalize(sample_object)"
   ]
  },
  {
   "cell_type": "markdown",
   "metadata": {},
   "source": [
    "### Flattening an object with embedded arrays"
   ]
  },
  {
   "cell_type": "code",
   "execution_count": 10,
   "metadata": {},
   "outputs": [],
   "source": [
    "from pandas.io.json import json_normalize\n",
    "sample_object2 = {\n",
    "    'driverPhoto': ['0','1'], \n",
    "    'driverVehicle': [{'Age of vehicle': '', 'Registration number': '', 'Load condition type': 'Normally Loaded', 'Load condition': 'Passenger', '_localId': '7abb9ca1-42f1-4faf-bbab-92f6ea656eb9', 'Type of vehicle': 'Auto rickshaw'}, {'Age of vehicle': '', 'Registration number': 'MH43BZ2759', 'Load condition type': 'Normally Loaded', 'Load condition': 'Passenger', '_localId': 'e6410b46-1de5-417d-9f45-b36d17a13251', 'Type of vehicle': 'Motorised two wheeler'}], 'driverPeople': [{'Helmet': [], 'Type of License': 'Unknown', 'Seat Belt': [], 'LAST NAME': '', 'GENDER': 'Male', 'AGE': '', 'Vehicle': '7abb9ca1-42f1-4faf-bbab-92f6ea656eb9', 'Involvment': ['Accused'], 'MIDDLE NAME': '', 'FIRST NAME': '', 'Role': 'Driver', 'ADDRESS': '', 'INJURY': 'Not injured', 'DRIVING LICENSE NUMBER': '', '_localId': 'f4c78ea9-9b01-4a05-a146-95c565f5bf4a'}, {'Helmet': ['Unknown'], 'Type of License': 'Unknown', 'Seat Belt': [], 'LAST NAME': 'Vakode', 'GENDER': 'Male', 'AGE': '54', 'Vehicle': 'e6410b46-1de5-417d-9f45-b36d17a13251', 'Involvment': ['Victim'], 'MIDDLE NAME': 'Maruti', 'FIRST NAME': 'Ashok', 'Role': 'Driver', 'ADDRESS': '', 'INJURY': 'Seriously Injured', 'DRIVING LICENSE NUMBER': '', '_localId': 'cb3ed15a-0b16-4ef4-a870-f942df03c2ce'}], 'driverRoadRelatedDetail': {'Crash Spot': 'Market/Commercial area', 'Road Features': 'Straight Road', 'Road Number': '', 'Road Surface condition': 'Paved', 'Chainage': '', 'Road Name': 'Goregaon Mulund Link Road', 'Number of lanes': '2', '_localId': 'a152857e-382f-4547-8745-c84bf5118445', 'Landmark': 'in front of Cement Company, Airoli Bound, Mulund east, Mumbai', 'Crash Spot - Others (specify)': '', 'Type of road': 'District Road'}, 'driverIncidentDetails': {'Hit & Run': 'Yes', 'Police Station': 'Navghar', 'District': 'Mumbai', 'Type of Collision - Others (specify)': '', 'Crash Severity': 'Serious Injury', 'Type of Collision': 'Vehicle to Vehicle', 'State': 'Maharashtra', 'Charges against - Other  (please specify)': '', 'Crime Registration Number': '195/2019', 'Record Type': 'Production', '_localId': 'ef014f5f-6373-46c6-9d4d-0811b50d2b0d', 'Charges against': ['134a', '134b', '279', '338'], 'Type of Area': 'Urban'}\n",
    "}"
   ]
  },
  {
   "cell_type": "code",
   "execution_count": 11,
   "metadata": {},
   "outputs": [
    {
     "data": {
      "text/html": [
       "<div>\n",
       "<style scoped>\n",
       "    .dataframe tbody tr th:only-of-type {\n",
       "        vertical-align: middle;\n",
       "    }\n",
       "\n",
       "    .dataframe tbody tr th {\n",
       "        vertical-align: top;\n",
       "    }\n",
       "\n",
       "    .dataframe thead th {\n",
       "        text-align: right;\n",
       "    }\n",
       "</style>\n",
       "<table border=\"1\" class=\"dataframe\">\n",
       "  <thead>\n",
       "    <tr style=\"text-align: right;\">\n",
       "      <th></th>\n",
       "      <th>driverIncidentDetails.Charges against</th>\n",
       "      <th>driverIncidentDetails.Charges against - Other  (please specify)</th>\n",
       "      <th>driverIncidentDetails.Crash Severity</th>\n",
       "      <th>driverIncidentDetails.Crime Registration Number</th>\n",
       "      <th>driverIncidentDetails.District</th>\n",
       "      <th>driverIncidentDetails.Hit &amp; Run</th>\n",
       "      <th>driverIncidentDetails.Police Station</th>\n",
       "      <th>driverIncidentDetails.Record Type</th>\n",
       "      <th>driverIncidentDetails.State</th>\n",
       "      <th>driverIncidentDetails.Type of Area</th>\n",
       "      <th>...</th>\n",
       "      <th>driverRoadRelatedDetail.Crash Spot - Others (specify)</th>\n",
       "      <th>driverRoadRelatedDetail.Landmark</th>\n",
       "      <th>driverRoadRelatedDetail.Number of lanes</th>\n",
       "      <th>driverRoadRelatedDetail.Road Features</th>\n",
       "      <th>driverRoadRelatedDetail.Road Name</th>\n",
       "      <th>driverRoadRelatedDetail.Road Number</th>\n",
       "      <th>driverRoadRelatedDetail.Road Surface condition</th>\n",
       "      <th>driverRoadRelatedDetail.Type of road</th>\n",
       "      <th>driverRoadRelatedDetail._localId</th>\n",
       "      <th>driverVehicle</th>\n",
       "    </tr>\n",
       "  </thead>\n",
       "  <tbody>\n",
       "    <tr>\n",
       "      <th>0</th>\n",
       "      <td>[134a, 134b, 279, 338]</td>\n",
       "      <td></td>\n",
       "      <td>Serious Injury</td>\n",
       "      <td>195/2019</td>\n",
       "      <td>Mumbai</td>\n",
       "      <td>Yes</td>\n",
       "      <td>Navghar</td>\n",
       "      <td>Production</td>\n",
       "      <td>Maharashtra</td>\n",
       "      <td>Urban</td>\n",
       "      <td>...</td>\n",
       "      <td></td>\n",
       "      <td>in front of Cement Company, Airoli Bound, Mulu...</td>\n",
       "      <td>2</td>\n",
       "      <td>Straight Road</td>\n",
       "      <td>Goregaon Mulund Link Road</td>\n",
       "      <td></td>\n",
       "      <td>Paved</td>\n",
       "      <td>District Road</td>\n",
       "      <td>a152857e-382f-4547-8745-c84bf5118445</td>\n",
       "      <td>[{'Age of vehicle': '', 'Registration number':...</td>\n",
       "    </tr>\n",
       "  </tbody>\n",
       "</table>\n",
       "<p>1 rows × 27 columns</p>\n",
       "</div>"
      ],
      "text/plain": [
       "  driverIncidentDetails.Charges against  \\\n",
       "0                [134a, 134b, 279, 338]   \n",
       "\n",
       "  driverIncidentDetails.Charges against - Other  (please specify)  \\\n",
       "0                                                                   \n",
       "\n",
       "  driverIncidentDetails.Crash Severity  \\\n",
       "0                       Serious Injury   \n",
       "\n",
       "  driverIncidentDetails.Crime Registration Number  \\\n",
       "0                                        195/2019   \n",
       "\n",
       "  driverIncidentDetails.District driverIncidentDetails.Hit & Run  \\\n",
       "0                         Mumbai                             Yes   \n",
       "\n",
       "  driverIncidentDetails.Police Station driverIncidentDetails.Record Type  \\\n",
       "0                              Navghar                        Production   \n",
       "\n",
       "  driverIncidentDetails.State driverIncidentDetails.Type of Area  ...  \\\n",
       "0                 Maharashtra                              Urban  ...   \n",
       "\n",
       "  driverRoadRelatedDetail.Crash Spot - Others (specify)  \\\n",
       "0                                                         \n",
       "\n",
       "                    driverRoadRelatedDetail.Landmark  \\\n",
       "0  in front of Cement Company, Airoli Bound, Mulu...   \n",
       "\n",
       "  driverRoadRelatedDetail.Number of lanes  \\\n",
       "0                                       2   \n",
       "\n",
       "  driverRoadRelatedDetail.Road Features driverRoadRelatedDetail.Road Name  \\\n",
       "0                         Straight Road         Goregaon Mulund Link Road   \n",
       "\n",
       "  driverRoadRelatedDetail.Road Number  \\\n",
       "0                                       \n",
       "\n",
       "  driverRoadRelatedDetail.Road Surface condition  \\\n",
       "0                                          Paved   \n",
       "\n",
       "  driverRoadRelatedDetail.Type of road      driverRoadRelatedDetail._localId  \\\n",
       "0                        District Road  a152857e-382f-4547-8745-c84bf5118445   \n",
       "\n",
       "                                       driverVehicle  \n",
       "0  [{'Age of vehicle': '', 'Registration number':...  \n",
       "\n",
       "[1 rows x 27 columns]"
      ]
     },
     "execution_count": 11,
     "metadata": {},
     "output_type": "execute_result"
    }
   ],
   "source": [
    "json_normalize(sample_object2)"
   ]
  },
  {
   "cell_type": "markdown",
   "metadata": {},
   "source": [
    "### Using a recusrive function to flatten an object of arbitrary structure"
   ]
  },
  {
   "cell_type": "code",
   "execution_count": 12,
   "metadata": {},
   "outputs": [],
   "source": [
    "def flatten_json(y):\n",
    "    out = {}\n",
    "\n",
    "    def flatten(x, name=''):\n",
    "        if type(x) is dict:\n",
    "            for a in x:\n",
    "                flatten(x[a], name + a + '_')\n",
    "        elif type(x) is list:\n",
    "            i = 0\n",
    "            for a in x:\n",
    "                flatten(a, name + str(i) + '_')\n",
    "                i += 1\n",
    "        else:\n",
    "            out[str(name[:-1])] = str(x)\n",
    "\n",
    "    flatten(y)\n",
    "    return out"
   ]
  },
  {
   "cell_type": "code",
   "execution_count": 13,
   "metadata": {},
   "outputs": [
    {
     "data": {
      "text/plain": [
       "{'driverPhoto_0': '0',\n",
       " 'driverPhoto_1': '1',\n",
       " 'driverVehicle_0_Age of vehicle': '',\n",
       " 'driverVehicle_0_Registration number': '',\n",
       " 'driverVehicle_0_Load condition type': 'Normally Loaded',\n",
       " 'driverVehicle_0_Load condition': 'Passenger',\n",
       " 'driverVehicle_0__localId': '7abb9ca1-42f1-4faf-bbab-92f6ea656eb9',\n",
       " 'driverVehicle_0_Type of vehicle': 'Auto rickshaw',\n",
       " 'driverVehicle_1_Age of vehicle': '',\n",
       " 'driverVehicle_1_Registration number': 'MH43BZ2759',\n",
       " 'driverVehicle_1_Load condition type': 'Normally Loaded',\n",
       " 'driverVehicle_1_Load condition': 'Passenger',\n",
       " 'driverVehicle_1__localId': 'e6410b46-1de5-417d-9f45-b36d17a13251',\n",
       " 'driverVehicle_1_Type of vehicle': 'Motorised two wheeler',\n",
       " 'driverPeople_0_Type of License': 'Unknown',\n",
       " 'driverPeople_0_LAST NAME': '',\n",
       " 'driverPeople_0_GENDER': 'Male',\n",
       " 'driverPeople_0_AGE': '',\n",
       " 'driverPeople_0_Vehicle': '7abb9ca1-42f1-4faf-bbab-92f6ea656eb9',\n",
       " 'driverPeople_0_Involvment_0': 'Accused',\n",
       " 'driverPeople_0_MIDDLE NAME': '',\n",
       " 'driverPeople_0_FIRST NAME': '',\n",
       " 'driverPeople_0_Role': 'Driver',\n",
       " 'driverPeople_0_ADDRESS': '',\n",
       " 'driverPeople_0_INJURY': 'Not injured',\n",
       " 'driverPeople_0_DRIVING LICENSE NUMBER': '',\n",
       " 'driverPeople_0__localId': 'f4c78ea9-9b01-4a05-a146-95c565f5bf4a',\n",
       " 'driverPeople_1_Helmet_0': 'Unknown',\n",
       " 'driverPeople_1_Type of License': 'Unknown',\n",
       " 'driverPeople_1_LAST NAME': 'Vakode',\n",
       " 'driverPeople_1_GENDER': 'Male',\n",
       " 'driverPeople_1_AGE': '54',\n",
       " 'driverPeople_1_Vehicle': 'e6410b46-1de5-417d-9f45-b36d17a13251',\n",
       " 'driverPeople_1_Involvment_0': 'Victim',\n",
       " 'driverPeople_1_MIDDLE NAME': 'Maruti',\n",
       " 'driverPeople_1_FIRST NAME': 'Ashok',\n",
       " 'driverPeople_1_Role': 'Driver',\n",
       " 'driverPeople_1_ADDRESS': '',\n",
       " 'driverPeople_1_INJURY': 'Seriously Injured',\n",
       " 'driverPeople_1_DRIVING LICENSE NUMBER': '',\n",
       " 'driverPeople_1__localId': 'cb3ed15a-0b16-4ef4-a870-f942df03c2ce',\n",
       " 'driverRoadRelatedDetail_Crash Spot': 'Market/Commercial area',\n",
       " 'driverRoadRelatedDetail_Road Features': 'Straight Road',\n",
       " 'driverRoadRelatedDetail_Road Number': '',\n",
       " 'driverRoadRelatedDetail_Road Surface condition': 'Paved',\n",
       " 'driverRoadRelatedDetail_Chainage': '',\n",
       " 'driverRoadRelatedDetail_Road Name': 'Goregaon Mulund Link Road',\n",
       " 'driverRoadRelatedDetail_Number of lanes': '2',\n",
       " 'driverRoadRelatedDetail__localId': 'a152857e-382f-4547-8745-c84bf5118445',\n",
       " 'driverRoadRelatedDetail_Landmark': 'in front of Cement Company, Airoli Bound, Mulund east, Mumbai',\n",
       " 'driverRoadRelatedDetail_Crash Spot - Others (specify)': '',\n",
       " 'driverRoadRelatedDetail_Type of road': 'District Road',\n",
       " 'driverIncidentDetails_Hit & Run': 'Yes',\n",
       " 'driverIncidentDetails_Police Station': 'Navghar',\n",
       " 'driverIncidentDetails_District': 'Mumbai',\n",
       " 'driverIncidentDetails_Type of Collision - Others (specify)': '',\n",
       " 'driverIncidentDetails_Crash Severity': 'Serious Injury',\n",
       " 'driverIncidentDetails_Type of Collision': 'Vehicle to Vehicle',\n",
       " 'driverIncidentDetails_State': 'Maharashtra',\n",
       " 'driverIncidentDetails_Charges against - Other  (please specify)': '',\n",
       " 'driverIncidentDetails_Crime Registration Number': '195/2019',\n",
       " 'driverIncidentDetails_Record Type': 'Production',\n",
       " 'driverIncidentDetails__localId': 'ef014f5f-6373-46c6-9d4d-0811b50d2b0d',\n",
       " 'driverIncidentDetails_Charges against_0': '134a',\n",
       " 'driverIncidentDetails_Charges against_1': '134b',\n",
       " 'driverIncidentDetails_Charges against_2': '279',\n",
       " 'driverIncidentDetails_Charges against_3': '338',\n",
       " 'driverIncidentDetails_Type of Area': 'Urban'}"
      ]
     },
     "execution_count": 13,
     "metadata": {},
     "output_type": "execute_result"
    }
   ],
   "source": [
    "flat = flatten_json(sample_object2)\n",
    "flat"
   ]
  },
  {
   "cell_type": "code",
   "execution_count": 8,
   "metadata": {},
   "outputs": [
    {
     "data": {
      "text/html": [
       "<div>\n",
       "<style scoped>\n",
       "    .dataframe tbody tr th:only-of-type {\n",
       "        vertical-align: middle;\n",
       "    }\n",
       "\n",
       "    .dataframe tbody tr th {\n",
       "        vertical-align: top;\n",
       "    }\n",
       "\n",
       "    .dataframe thead th {\n",
       "        text-align: right;\n",
       "    }\n",
       "</style>\n",
       "<table border=\"1\" class=\"dataframe\">\n",
       "  <thead>\n",
       "    <tr style=\"text-align: right;\">\n",
       "      <th></th>\n",
       "      <th>Hobbies_0</th>\n",
       "      <th>Hobbies_1</th>\n",
       "      <th>Hobbies_2</th>\n",
       "      <th>Location_City</th>\n",
       "      <th>Location_State</th>\n",
       "      <th>Name</th>\n",
       "    </tr>\n",
       "  </thead>\n",
       "  <tbody>\n",
       "    <tr>\n",
       "      <th>0</th>\n",
       "      <td>Running</td>\n",
       "      <td>Music</td>\n",
       "      <td>Programming</td>\n",
       "      <td>Los Angeles</td>\n",
       "      <td>CA</td>\n",
       "      <td>John</td>\n",
       "    </tr>\n",
       "  </tbody>\n",
       "</table>\n",
       "</div>"
      ],
      "text/plain": [
       "  Hobbies_0 Hobbies_1    Hobbies_2 Location_City Location_State  Name\n",
       "0   Running     Music  Programming   Los Angeles             CA  John"
      ]
     },
     "execution_count": 8,
     "metadata": {},
     "output_type": "execute_result"
    }
   ],
   "source": [
    "json_normalize(flat)"
   ]
  }
 ],
 "metadata": {
  "kernelspec": {
   "display_name": "Python 3",
   "language": "python",
   "name": "python3"
  },
  "language_info": {
   "codemirror_mode": {
    "name": "ipython",
    "version": 3
   },
   "file_extension": ".py",
   "mimetype": "text/x-python",
   "name": "python",
   "nbconvert_exporter": "python",
   "pygments_lexer": "ipython3",
   "version": "3.7.3"
  }
 },
 "nbformat": 4,
 "nbformat_minor": 4
}
